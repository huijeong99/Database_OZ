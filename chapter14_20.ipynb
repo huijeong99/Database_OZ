{
  "nbformat": 4,
  "nbformat_minor": 0,
  "metadata": {
    "colab": {
      "provenance": [],
      "authorship_tag": "ABX9TyPTP1a93Z6Hh5n6pz7SJx3t",
      "include_colab_link": true
    },
    "kernelspec": {
      "name": "python3",
      "display_name": "Python 3"
    },
    "language_info": {
      "name": "python"
    }
  },
  "cells": [
    {
      "cell_type": "markdown",
      "metadata": {
        "id": "view-in-github",
        "colab_type": "text"
      },
      "source": [
        "<a href=\"https://colab.research.google.com/github/huijeong99/Database_OZ/blob/main/chapter14_20.ipynb\" target=\"_parent\"><img src=\"https://colab.research.google.com/assets/colab-badge.svg\" alt=\"Open In Colab\"/></a>"
      ]
    },
    {
      "cell_type": "code",
      "execution_count": null,
      "metadata": {
        "id": "TyVomQsEzGbB"
      },
      "outputs": [],
      "source": [
        "#코드 제출용 임시파일\n",
        "\n",
        "USE mydatabase;\n",
        "\n",
        "-- employees 테이블 생성\n",
        "CREATE TABLE employees (\n",
        "    id INT AUTO_INCREMENT PRIMARY KEY,\n",
        "    name VARCHAR(100),\n",
        "    position VARCHAR(100),\n",
        "    salary DECIMAL(10, 2)\n",
        ");\n",
        "\n",
        "-- 직원 데이터 입력\n",
        "INSERT INTO employees (name, position, salary)\n",
        "VALUES ('혜린', 'PM', 90000),\n",
        "('은우', 'Frontend', 80000),\n",
        "('가을', 'Backend', 92000),\n",
        "('지수', 'Frontend', 78000),\n",
        "('민혁', 'Frontend', 96000),\n",
        "('하온', 'Backend', 130000);\n",
        "\n",
        "-- 모든 직원의 이름과 연봉 정보만 조회하는 쿼리 작성\n",
        "SELECT * FROM employees;\n",
        "\n",
        "-- Fronted 직책을 가진 직원 중 연봉이 90000이하인 직원의 이름과 연봉을 조회\n",
        "SELECT name, salary FROM employees WHERE position = 'Fronted' AND salary <= 90000;\n",
        "\n",
        "-- Frontend 직책을 가진 모든 직원의 연봉을 10% 인상한 후 결과 확인\n",
        "UPDATE employees\n",
        "SET salary = salary * 1.10\n",
        "WHERE position = 'Frontend';\n",
        "SELECT * FROM employees WHERE position = 'Frontend';\n",
        "\n",
        "-- Backend 직책을 가진 직원 연봉을 5% 인상\n",
        "UPDATE employees\n",
        "SET salary = salary * 1.05\n",
        "WHERE position = 'Backend';\n",
        "\n",
        "-- 민혁 사원의 데이터 삭제\n",
        "DELETE FROM employees WHERE name = '민혁';\n",
        "\n",
        "-- 모든 직원을 position별로 그룹화하여 각 직책의 평균 연봉을 계산\n",
        "SELECT position,\n",
        "AVG(salary)\n",
        "AS average_salary\n",
        "FROM emp1oyees GROUP BY posiotion;\n",
        "\n",
        "-- employees 테이블 삭제\n",
        "DROP TABLE employees;"
      ]
    }
  ]
}